{
  "nbformat": 4,
  "nbformat_minor": 0,
  "metadata": {
    "colab": {
      "name": "Semi-supervised GAN-BERT.ipynb",
      "provenance": [],
      "authorship_tag": "ABX9TyPx9UfGp2v2xGuaCKWQHupj",
      "include_colab_link": true
    },
    "kernelspec": {
      "name": "python3",
      "display_name": "Python 3"
    },
    "language_info": {
      "name": "python"
    }
  },
  "cells": [
    {
      "cell_type": "markdown",
      "metadata": {
        "id": "view-in-github",
        "colab_type": "text"
      },
      "source": [
        "<a href=\"https://colab.research.google.com/github/sujay-bhambure/Semi-supervised-for-Text-data/blob/main/Semi_supervised_GAN_BERT.ipynb\" target=\"_parent\"><img src=\"https://colab.research.google.com/assets/colab-badge.svg\" alt=\"Open In Colab\"/></a>"
      ]
    },
    {
      "cell_type": "code",
      "execution_count": null,
      "metadata": {
        "id": "lWK7x_4oTkfe"
      },
      "outputs": [],
      "source": [
        ""
      ]
    }
  ]
}